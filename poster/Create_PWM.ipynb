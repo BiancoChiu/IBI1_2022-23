{
 "cells": [
  {
   "cell_type": "markdown",
   "source": [
    "# 使用**pyjaspar**获取数据并构建打分矩阵\n",
    "#### 利用pyjaspar可以读取数据库\n",
    "#### 可以通过TF的jaspar id 或名字获取数据，但因为通过名字会返回多个结果，所以没有添加这个功能\n",
    "#### 由于使用了pyjaspar，需要对以下内容进行引用：\n",
    "**Khan, A. (2021) ‘pyjaspar: A serverless interface to Biopython to access different versions of JASPAR database’. Available at: https://github.com/asntech/pyjaspar (Accessed: 23 April 2023).**\n"
   ],
   "metadata": {
    "collapsed": false
   }
  },
  {
   "cell_type": "code",
   "execution_count": 1,
   "metadata": {
    "ExecuteTime": {
     "start_time": "2023-04-23T21:19:10.721213Z",
     "end_time": "2023-04-23T21:19:11.343731Z"
    }
   },
   "outputs": [],
   "source": [
    "from pyjaspar import jaspardb\n",
    "import pandas as pd\n",
    "from math import log2\n",
    "jdb_obj = jaspardb(release='JASPAR2022')\n",
    "motif = jdb_obj.fetch_motif_by_id('MA0032.2')\n"
   ]
  },
  {
   "cell_type": "markdown",
   "source": [
    "### 获取TF名称\n",
    "#### fetch后得到的motif包含了大量关于该TF的信息，将其转换为字符串后，使用split切分，通过索引获得名称"
   ],
   "metadata": {
    "collapsed": false
   }
  },
  {
   "cell_type": "code",
   "execution_count": 2,
   "outputs": [
    {
     "name": "stdout",
     "output_type": "stream",
     "text": [
      "TF name\tFOXC1\n",
      "Matrix ID\tMA0032.2\n",
      "Collection\tCORE\n",
      "TF class\t['Fork head/winged helix factors']\n",
      "TF family\t['FOX']\n",
      "Species\t9606\n",
      "Taxonomic group\tvertebrates\n",
      "Accession\t['Q12948']\n",
      "Data type used\tHT-SELEX\n",
      "Medline\t17993506\n",
      "Matrix:\n",
      "        0      1      2      3      4      5      6      7      8      9     10\n",
      "A: 6452.00 14324.00 7893.00 4858.00 2496.00 13117.00 18489.00 18489.00 122.00 18489.00 6702.00\n",
      "C: 772.00 728.00 2008.00 336.00 1652.00 5372.00 108.00  56.00 8782.00  27.00 1558.00\n",
      "G: 304.00 4165.00 2422.00 13631.00 390.00  21.00   0.00 141.00 165.00 433.00 1107.00\n",
      "T: 12038.00 1386.00 10596.00  51.00 18489.00  45.00  57.00 112.00 9708.00 184.00 11787.00\n",
      "\n",
      "\n",
      "\n"
     ]
    }
   ],
   "source": [
    "print(str(motif))"
   ],
   "metadata": {
    "collapsed": false,
    "ExecuteTime": {
     "start_time": "2023-04-23T21:19:11.341722Z",
     "end_time": "2023-04-23T21:19:11.357828Z"
    }
   }
  },
  {
   "cell_type": "code",
   "execution_count": 3,
   "outputs": [
    {
     "data": {
      "text/plain": "['TF',\n 'name',\n 'FOXC1',\n 'Matrix',\n 'ID',\n 'MA0032.2',\n 'Collection',\n 'CORE',\n 'TF',\n 'class',\n \"['Fork\",\n 'head/winged',\n 'helix',\n \"factors']\",\n 'TF',\n 'family',\n \"['FOX']\",\n 'Species',\n '9606',\n 'Taxonomic',\n 'group',\n 'vertebrates',\n 'Accession',\n \"['Q12948']\",\n 'Data',\n 'type',\n 'used',\n 'HT-SELEX',\n 'Medline',\n '17993506',\n 'Matrix:',\n '0',\n '1',\n '2',\n '3',\n '4',\n '5',\n '6',\n '7',\n '8',\n '9',\n '10',\n 'A:',\n '6452.00',\n '14324.00',\n '7893.00',\n '4858.00',\n '2496.00',\n '13117.00',\n '18489.00',\n '18489.00',\n '122.00',\n '18489.00',\n '6702.00',\n 'C:',\n '772.00',\n '728.00',\n '2008.00',\n '336.00',\n '1652.00',\n '5372.00',\n '108.00',\n '56.00',\n '8782.00',\n '27.00',\n '1558.00',\n 'G:',\n '304.00',\n '4165.00',\n '2422.00',\n '13631.00',\n '390.00',\n '21.00',\n '0.00',\n '141.00',\n '165.00',\n '433.00',\n '1107.00',\n 'T:',\n '12038.00',\n '1386.00',\n '10596.00',\n '51.00',\n '18489.00',\n '45.00',\n '57.00',\n '112.00',\n '9708.00',\n '184.00',\n '11787.00']"
     },
     "execution_count": 3,
     "metadata": {},
     "output_type": "execute_result"
    }
   ],
   "source": [
    "str(motif).split()"
   ],
   "metadata": {
    "collapsed": false,
    "ExecuteTime": {
     "start_time": "2023-04-23T21:19:11.353106Z",
     "end_time": "2023-04-23T21:19:11.412153Z"
    }
   }
  },
  {
   "cell_type": "code",
   "execution_count": 4,
   "outputs": [
    {
     "data": {
      "text/plain": "'FOXC1'"
     },
     "execution_count": 4,
     "metadata": {},
     "output_type": "execute_result"
    }
   ],
   "source": [
    "str(motif).split()[2]"
   ],
   "metadata": {
    "collapsed": false,
    "ExecuteTime": {
     "start_time": "2023-04-23T21:19:11.369894Z",
     "end_time": "2023-04-23T21:19:11.422104Z"
    }
   }
  },
  {
   "cell_type": "markdown",
   "source": [
    "### 构建打分矩阵\n",
    "#### 通过构建PWM矩阵来进行打分\n",
    "#### 以下展示如何从PFM进行一系列计算得到PWM\n",
    "#### PFM: position frequency matrix\n",
    "#### 对motif使用counts方法即可获得PFM矩阵"
   ],
   "metadata": {
    "collapsed": false
   }
  },
  {
   "cell_type": "code",
   "execution_count": 5,
   "outputs": [
    {
     "name": "stdout",
     "output_type": "stream",
     "text": [
      "        0      1      2      3      4      5      6      7      8      9     10\n",
      "A: 6452.00 14324.00 7893.00 4858.00 2496.00 13117.00 18489.00 18489.00 122.00 18489.00 6702.00\n",
      "C: 772.00 728.00 2008.00 336.00 1652.00 5372.00 108.00  56.00 8782.00  27.00 1558.00\n",
      "G: 304.00 4165.00 2422.00 13631.00 390.00  21.00   0.00 141.00 165.00 433.00 1107.00\n",
      "T: 12038.00 1386.00 10596.00  51.00 18489.00  45.00  57.00 112.00 9708.00 184.00 11787.00\n",
      "\n"
     ]
    }
   ],
   "source": [
    "print(motif.counts)"
   ],
   "metadata": {
    "collapsed": false,
    "ExecuteTime": {
     "start_time": "2023-04-23T21:19:11.384043Z",
     "end_time": "2023-04-23T21:19:11.422104Z"
    }
   }
  },
  {
   "cell_type": "markdown",
   "source": [
    "#### 将PFM矩阵转为dataframe格式，方便进行计算"
   ],
   "metadata": {
    "collapsed": false
   }
  },
  {
   "cell_type": "code",
   "execution_count": 6,
   "metadata": {
    "ExecuteTime": {
     "start_time": "2023-04-23T21:19:11.399867Z",
     "end_time": "2023-04-23T21:19:11.431962Z"
    }
   },
   "outputs": [
    {
     "data": {
      "text/plain": "        0        1        2        3        4        5        6        7   \\\nA   6452.0  14324.0   7893.0   4858.0   2496.0  13117.0  18489.0  18489.0   \nC    772.0    728.0   2008.0    336.0   1652.0   5372.0    108.0     56.0   \nG    304.0   4165.0   2422.0  13631.0    390.0     21.0      0.0    141.0   \nT  12038.0   1386.0  10596.0     51.0  18489.0     45.0     57.0    112.0   \n\n       8        9        10  \nA   122.0  18489.0   6702.0  \nC  8782.0     27.0   1558.0  \nG   165.0    433.0   1107.0  \nT  9708.0    184.0  11787.0  ",
      "text/html": "<div>\n<style scoped>\n    .dataframe tbody tr th:only-of-type {\n        vertical-align: middle;\n    }\n\n    .dataframe tbody tr th {\n        vertical-align: top;\n    }\n\n    .dataframe thead th {\n        text-align: right;\n    }\n</style>\n<table border=\"1\" class=\"dataframe\">\n  <thead>\n    <tr style=\"text-align: right;\">\n      <th></th>\n      <th>0</th>\n      <th>1</th>\n      <th>2</th>\n      <th>3</th>\n      <th>4</th>\n      <th>5</th>\n      <th>6</th>\n      <th>7</th>\n      <th>8</th>\n      <th>9</th>\n      <th>10</th>\n    </tr>\n  </thead>\n  <tbody>\n    <tr>\n      <th>A</th>\n      <td>6452.0</td>\n      <td>14324.0</td>\n      <td>7893.0</td>\n      <td>4858.0</td>\n      <td>2496.0</td>\n      <td>13117.0</td>\n      <td>18489.0</td>\n      <td>18489.0</td>\n      <td>122.0</td>\n      <td>18489.0</td>\n      <td>6702.0</td>\n    </tr>\n    <tr>\n      <th>C</th>\n      <td>772.0</td>\n      <td>728.0</td>\n      <td>2008.0</td>\n      <td>336.0</td>\n      <td>1652.0</td>\n      <td>5372.0</td>\n      <td>108.0</td>\n      <td>56.0</td>\n      <td>8782.0</td>\n      <td>27.0</td>\n      <td>1558.0</td>\n    </tr>\n    <tr>\n      <th>G</th>\n      <td>304.0</td>\n      <td>4165.0</td>\n      <td>2422.0</td>\n      <td>13631.0</td>\n      <td>390.0</td>\n      <td>21.0</td>\n      <td>0.0</td>\n      <td>141.0</td>\n      <td>165.0</td>\n      <td>433.0</td>\n      <td>1107.0</td>\n    </tr>\n    <tr>\n      <th>T</th>\n      <td>12038.0</td>\n      <td>1386.0</td>\n      <td>10596.0</td>\n      <td>51.0</td>\n      <td>18489.0</td>\n      <td>45.0</td>\n      <td>57.0</td>\n      <td>112.0</td>\n      <td>9708.0</td>\n      <td>184.0</td>\n      <td>11787.0</td>\n    </tr>\n  </tbody>\n</table>\n</div>"
     },
     "execution_count": 6,
     "metadata": {},
     "output_type": "execute_result"
    }
   ],
   "source": [
    "df = pd.DataFrame(motif.counts).T\n",
    "df"
   ]
  },
  {
   "cell_type": "markdown",
   "source": [
    "### PPM: position probability matrix\n",
    "#### 若motif长度为n，df的shape为4*n，df_sum为长度为n的向量，此处的除法利用了广播机制"
   ],
   "metadata": {
    "collapsed": false
   }
  },
  {
   "cell_type": "code",
   "execution_count": 7,
   "metadata": {
    "ExecuteTime": {
     "start_time": "2023-04-23T21:19:11.431962Z",
     "end_time": "2023-04-23T21:19:11.504582Z"
    }
   },
   "outputs": [
    {
     "data": {
      "text/plain": "         0         1         2         3         4         5         6   \\\nA  0.329756  0.695239  0.344387  0.257364  0.108394  0.706925  0.991155   \nC  0.039456  0.035335  0.087613  0.017800  0.071742  0.289518  0.005790   \nG  0.015537  0.202155  0.105677  0.722134  0.016937  0.001132  0.000000   \nT  0.615251  0.067272  0.462324  0.002702  0.802927  0.002425  0.003056   \n\n         7         8         9         10  \nA  0.983562  0.006497  0.966341  0.316820  \nC  0.002979  0.467700  0.001411  0.073650  \nG  0.007501  0.008787  0.022631  0.052331  \nT  0.005958  0.517015  0.009617  0.557200  ",
      "text/html": "<div>\n<style scoped>\n    .dataframe tbody tr th:only-of-type {\n        vertical-align: middle;\n    }\n\n    .dataframe tbody tr th {\n        vertical-align: top;\n    }\n\n    .dataframe thead th {\n        text-align: right;\n    }\n</style>\n<table border=\"1\" class=\"dataframe\">\n  <thead>\n    <tr style=\"text-align: right;\">\n      <th></th>\n      <th>0</th>\n      <th>1</th>\n      <th>2</th>\n      <th>3</th>\n      <th>4</th>\n      <th>5</th>\n      <th>6</th>\n      <th>7</th>\n      <th>8</th>\n      <th>9</th>\n      <th>10</th>\n    </tr>\n  </thead>\n  <tbody>\n    <tr>\n      <th>A</th>\n      <td>0.329756</td>\n      <td>0.695239</td>\n      <td>0.344387</td>\n      <td>0.257364</td>\n      <td>0.108394</td>\n      <td>0.706925</td>\n      <td>0.991155</td>\n      <td>0.983562</td>\n      <td>0.006497</td>\n      <td>0.966341</td>\n      <td>0.316820</td>\n    </tr>\n    <tr>\n      <th>C</th>\n      <td>0.039456</td>\n      <td>0.035335</td>\n      <td>0.087613</td>\n      <td>0.017800</td>\n      <td>0.071742</td>\n      <td>0.289518</td>\n      <td>0.005790</td>\n      <td>0.002979</td>\n      <td>0.467700</td>\n      <td>0.001411</td>\n      <td>0.073650</td>\n    </tr>\n    <tr>\n      <th>G</th>\n      <td>0.015537</td>\n      <td>0.202155</td>\n      <td>0.105677</td>\n      <td>0.722134</td>\n      <td>0.016937</td>\n      <td>0.001132</td>\n      <td>0.000000</td>\n      <td>0.007501</td>\n      <td>0.008787</td>\n      <td>0.022631</td>\n      <td>0.052331</td>\n    </tr>\n    <tr>\n      <th>T</th>\n      <td>0.615251</td>\n      <td>0.067272</td>\n      <td>0.462324</td>\n      <td>0.002702</td>\n      <td>0.802927</td>\n      <td>0.002425</td>\n      <td>0.003056</td>\n      <td>0.005958</td>\n      <td>0.517015</td>\n      <td>0.009617</td>\n      <td>0.557200</td>\n    </tr>\n  </tbody>\n</table>\n</div>"
     },
     "execution_count": 7,
     "metadata": {},
     "output_type": "execute_result"
    }
   ],
   "source": [
    "df_sum = df.sum()\n",
    "df = df / df_sum\n",
    "df"
   ]
  },
  {
   "cell_type": "markdown",
   "source": [
    "### PWM：position weight matrix\n",
    "- PPM: 0.1 -> PWM: -1.32\n",
    "- PPM: 0.05 -> PWM: -2.32\n",
    "#### 将PPM矩阵中的每一个概率值除以0.25（背景频率，在核酸序列中是除以0.25，在蛋白质序列中是除以0.05）\n",
    "#### 接着取对数，此处为每一个值加上一个极小的值，为了避免有0而无法取对数的情况\n",
    "##### 接下来尝试对于此处进行的除以背景频率及取对数操作进行解释：\n",
    "##### 如果是一段随机的序列，那么每个位置上每种碱基出现的平均概率为0.25（背景频率）\n",
    "##### 将PPM中的概率除以这一平均概率得到一个相对权重，越是大于一则表示这一位点对于这一碱基的偏好更高，小于一则表示这一位点对这一碱基不偏好\n",
    "##### 换一种说法，如果碱基作为一个功能位点和作为一个随机位点的概率相同，则分数为0\n",
    "##### 如果它更有可能成为一个功能位点而不是随机位点，则分数大于0\n",
    "##### 如果它更有可能成为一个随机位点而不是一个功能位点，则分数小于0。\n",
    "##### 接下来的取对数操作有两个作用\n",
    "##### 一是如果要用原本的概率衡量一段序列成为motif的可能性，则需要将概率相乘，取对数后则变为了相加\n",
    "##### 二是取对数可以将更可能是随机位点的碱基变为负数，反之为正数，在打分时可以对“表现好”的位点加分，“表现差”的位点罚分（这一条是我自己感觉的）"
   ],
   "metadata": {
    "collapsed": false
   }
  },
  {
   "cell_type": "code",
   "execution_count": 8,
   "outputs": [
    {
     "data": {
      "text/plain": "         0         1         2         3         4         5          6   \\\nA  0.399469  1.475580  0.462102  0.041881 -1.205637  1.499630   1.987182   \nC -2.663604 -2.822772 -1.512713 -3.811948 -1.801041  0.211723  -5.432310   \nG -4.008134 -0.306466 -1.242273  1.530338 -3.883709 -7.787203 -66.438562   \nT  1.299247 -1.893855  0.886976 -6.531840  1.683341 -6.687667  -6.354307   \n\n         7         8         9         10  \nA  1.976088 -5.265942  1.950604  0.341733  \nC -6.390937  0.903655 -7.468888 -1.763163  \nG -5.058740 -4.830357 -3.465552 -2.256203  \nT -5.390937  1.048279 -4.700214  1.156266  ",
      "text/html": "<div>\n<style scoped>\n    .dataframe tbody tr th:only-of-type {\n        vertical-align: middle;\n    }\n\n    .dataframe tbody tr th {\n        vertical-align: top;\n    }\n\n    .dataframe thead th {\n        text-align: right;\n    }\n</style>\n<table border=\"1\" class=\"dataframe\">\n  <thead>\n    <tr style=\"text-align: right;\">\n      <th></th>\n      <th>0</th>\n      <th>1</th>\n      <th>2</th>\n      <th>3</th>\n      <th>4</th>\n      <th>5</th>\n      <th>6</th>\n      <th>7</th>\n      <th>8</th>\n      <th>9</th>\n      <th>10</th>\n    </tr>\n  </thead>\n  <tbody>\n    <tr>\n      <th>A</th>\n      <td>0.399469</td>\n      <td>1.475580</td>\n      <td>0.462102</td>\n      <td>0.041881</td>\n      <td>-1.205637</td>\n      <td>1.499630</td>\n      <td>1.987182</td>\n      <td>1.976088</td>\n      <td>-5.265942</td>\n      <td>1.950604</td>\n      <td>0.341733</td>\n    </tr>\n    <tr>\n      <th>C</th>\n      <td>-2.663604</td>\n      <td>-2.822772</td>\n      <td>-1.512713</td>\n      <td>-3.811948</td>\n      <td>-1.801041</td>\n      <td>0.211723</td>\n      <td>-5.432310</td>\n      <td>-6.390937</td>\n      <td>0.903655</td>\n      <td>-7.468888</td>\n      <td>-1.763163</td>\n    </tr>\n    <tr>\n      <th>G</th>\n      <td>-4.008134</td>\n      <td>-0.306466</td>\n      <td>-1.242273</td>\n      <td>1.530338</td>\n      <td>-3.883709</td>\n      <td>-7.787203</td>\n      <td>-66.438562</td>\n      <td>-5.058740</td>\n      <td>-4.830357</td>\n      <td>-3.465552</td>\n      <td>-2.256203</td>\n    </tr>\n    <tr>\n      <th>T</th>\n      <td>1.299247</td>\n      <td>-1.893855</td>\n      <td>0.886976</td>\n      <td>-6.531840</td>\n      <td>1.683341</td>\n      <td>-6.687667</td>\n      <td>-6.354307</td>\n      <td>-5.390937</td>\n      <td>1.048279</td>\n      <td>-4.700214</td>\n      <td>1.156266</td>\n    </tr>\n  </tbody>\n</table>\n</div>"
     },
     "execution_count": 8,
     "metadata": {},
     "output_type": "execute_result"
    }
   ],
   "source": [
    "df = df / 0.25\n",
    "df = df.applymap(lambda x: log2(x + 1e-20))\n",
    "df"
   ],
   "metadata": {
    "collapsed": false,
    "ExecuteTime": {
     "start_time": "2023-04-23T21:19:11.446351Z",
     "end_time": "2023-04-23T21:19:11.514129Z"
    }
   }
  },
  {
   "cell_type": "markdown",
   "source": [
    "### PWM矩阵的相关引用\n",
    "**Xia, X. (2012) ‘Position weight matrix, gibbs sampler, and the associated significance tests in motif characterization and prediction’, Scientifica, 2012, p. 917540. Available at: https://doi.org/10.6064/2012/917540.**\n",
    "**Staden, R. (1984) ‘Computer methods to locate signals in nucleic acid sequences.’, Nucleic Acids Research, 12(1 Pt 2), pp. 505–519.**\n"
   ],
   "metadata": {
    "collapsed": false
   }
  },
  {
   "cell_type": "markdown",
   "source": [
    "### 正则表达式生成\n",
    "#### 每次读取PWM的一列，将分数大于-2的碱基选出，加入正则表达式"
   ],
   "metadata": {
    "collapsed": false
   }
  },
  {
   "cell_type": "code",
   "execution_count": 9,
   "outputs": [
    {
     "data": {
      "text/plain": "'[AT][AGT][ACGT][AG][ACT][AC][A][A][CT][A][ACT]'"
     },
     "execution_count": 9,
     "metadata": {},
     "output_type": "execute_result"
    }
   ],
   "source": [
    "regular_motif = ''\n",
    "for i in range(len(df.columns)):\n",
    "    temp_df = pd.DataFrame(df.iloc[:, i])\n",
    "    temp_df.columns = ['0']\n",
    "    temp_df = temp_df[temp_df['0'] > -2]\n",
    "    regular_motif += '[' + ''.join(temp_df.index) + ']'\n",
    "regular_motif"
   ],
   "metadata": {
    "collapsed": false,
    "ExecuteTime": {
     "start_time": "2023-04-23T21:19:11.460604Z",
     "end_time": "2023-04-23T21:19:11.515128Z"
    }
   }
  },
  {
   "cell_type": "markdown",
   "source": [
    "### 对序列进行打分"
   ],
   "metadata": {
    "collapsed": false
   }
  },
  {
   "cell_type": "code",
   "execution_count": 10,
   "outputs": [
    {
     "name": "stdout",
     "output_type": "stream",
     "text": [
      "9.976912367954498\n"
     ]
    }
   ],
   "source": [
    "score = 0\n",
    "seq = 'AAAAAAAATAA'\n",
    "for i in range(len(seq)):\n",
    "    base_score = df.loc[seq[i], i]\n",
    "    score += base_score\n",
    "print(score)"
   ],
   "metadata": {
    "collapsed": false,
    "ExecuteTime": {
     "start_time": "2023-04-23T21:19:11.476452Z",
     "end_time": "2023-04-23T21:19:11.597879Z"
    }
   }
  },
  {
   "cell_type": "code",
   "execution_count": 1,
   "outputs": [],
   "source": [
    "import tkinter as tk\n",
    "\n",
    "root = tk.Tk()\n",
    "\n",
    "text = tk.Text(root)\n",
    "text.pack()\n",
    "\n",
    "text.insert('end', 'Hello, world!\\n')\n",
    "text.insert('end', 'This is a test message.\\n')\n",
    "\n",
    "# 定义一个名为\"big\"的tag，将字体大小设置为20\n",
    "text.tag_configure('big', font=('Arial', 20))\n",
    "\n",
    "# 在第一行的末尾加入\"big\" tag\n",
    "text.tag_add('big', '1.0', '1.end')\n",
    "\n",
    "root.mainloop()\n"
   ],
   "metadata": {
    "collapsed": false,
    "ExecuteTime": {
     "start_time": "2023-05-08T22:04:51.311225Z",
     "end_time": "2023-05-08T22:11:56.400614Z"
    }
   }
  },
  {
   "cell_type": "code",
   "execution_count": null,
   "outputs": [],
   "source": [],
   "metadata": {
    "collapsed": false
   }
  }
 ],
 "metadata": {
  "kernelspec": {
   "display_name": "base",
   "language": "python",
   "name": "python3"
  },
  "language_info": {
   "codemirror_mode": {
    "name": "ipython",
    "version": 3
   },
   "file_extension": ".py",
   "mimetype": "text/x-python",
   "name": "python",
   "nbconvert_exporter": "python",
   "pygments_lexer": "ipython3",
   "version": "3.9.12"
  },
  "orig_nbformat": 4
 },
 "nbformat": 4,
 "nbformat_minor": 2
}
